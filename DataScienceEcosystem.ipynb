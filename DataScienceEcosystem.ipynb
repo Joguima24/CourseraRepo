{
 "cells": [
  {
   "cell_type": "markdown",
   "id": "403fd965-ba9e-453f-97e3-8bf48b782cac",
   "metadata": {
    "tags": []
   },
   "source": [
    "# Data Science Tools and Ecosystem"
   ]
  },
  {
   "cell_type": "markdown",
   "id": "e4dd429e-1122-48c8-a29d-4bf46b5dc9ad",
   "metadata": {},
   "source": [
    "In this notebook, Data Science Tools and Ecosystem are summarized."
   ]
  },
  {
   "cell_type": "markdown",
   "id": "af606105-6449-4238-8a14-93781837b5d5",
   "metadata": {},
   "source": [
    "**Objectives:**\n",
    "+ List of popular languages for Data Science\n",
    "+ List of popular libraries used by Data Scientists\n",
    "+ Common math operations"
   ]
  },
  {
   "cell_type": "markdown",
   "id": "7ab9a0ca-45fd-4727-9b03-7131b5643890",
   "metadata": {},
   "source": [
    "Some of the popular languages that Data Scientists use are:\n",
    "1. Python;\n",
    "2. R;\n",
    "3. SQL."
   ]
  },
  {
   "cell_type": "markdown",
   "id": "77849c8b-76c8-40e7-8d52-c9655fa8e0e5",
   "metadata": {},
   "source": [
    "Some of the commonly used libraries used by Data Scientists include:\n",
    "\n",
    "1. Pandas;\n",
    "2. NumPy;\n",
    "3. Scikit-learn."
   ]
  },
  {
   "cell_type": "markdown",
   "id": "53c5c53d-ac5f-409a-9268-9e13b3c5d066",
   "metadata": {},
   "source": [
    "Data Science Tools |\n",
    "-------------------|\n",
    "Rstudio            |\n",
    "Visual Studio Code |\n",
    "Anaconda           |\n",
    "\n",
    "\n"
   ]
  },
  {
   "cell_type": "markdown",
   "id": "5f28b480-5a30-4060-ab0c-55d9c7593943",
   "metadata": {},
   "source": [
    "### Below are a few examples of evaluating arithmetic expressions in Python"
   ]
  },
  {
   "cell_type": "code",
   "execution_count": 1,
   "id": "9d1e6d90-7b00-4196-9dce-251c7b3fba49",
   "metadata": {
    "tags": []
   },
   "outputs": [
    {
     "data": {
      "text/plain": [
       "17"
      ]
     },
     "execution_count": 1,
     "metadata": {},
     "output_type": "execute_result"
    }
   ],
   "source": [
    "#This a simple arithmetic expression to mutiply then add integers\n",
    "(3*4)+5"
   ]
  },
  {
   "cell_type": "code",
   "execution_count": 2,
   "id": "ae5b09b3-b062-443e-b7bd-99e3bfdbceea",
   "metadata": {
    "tags": []
   },
   "outputs": [
    {
     "data": {
      "text/plain": [
       "3.3333333333333335"
      ]
     },
     "execution_count": 2,
     "metadata": {},
     "output_type": "execute_result"
    }
   ],
   "source": [
    "#This will convert 200 minutes to hours by diving by 60\n",
    "200/60"
   ]
  },
  {
   "cell_type": "markdown",
   "id": "8a3d0c11-c774-4e3d-97b9-38cc7d25fc54",
   "metadata": {},
   "source": [
    "## Author\n",
    "João Gomes"
   ]
  },
  {
   "cell_type": "code",
   "execution_count": null,
   "id": "ac7be263-28f0-4443-80f6-019d0b250a49",
   "metadata": {},
   "outputs": [],
   "source": []
  }
 ],
 "metadata": {
  "kernelspec": {
   "display_name": "Python",
   "language": "python",
   "name": "conda-env-python-py"
  },
  "language_info": {
   "codemirror_mode": {
    "name": "ipython",
    "version": 3
   },
   "file_extension": ".py",
   "mimetype": "text/x-python",
   "name": "python",
   "nbconvert_exporter": "python",
   "pygments_lexer": "ipython3",
   "version": "3.7.12"
  }
 },
 "nbformat": 4,
 "nbformat_minor": 5
}
